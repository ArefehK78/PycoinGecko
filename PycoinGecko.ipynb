{
  "nbformat": 4,
  "nbformat_minor": 0,
  "metadata": {
    "colab": {
      "provenance": [],
      "authorship_tag": "ABX9TyOAS5rPxOjftXxram0wuIgJ",
      "include_colab_link": true
    },
    "kernelspec": {
      "name": "python3",
      "display_name": "Python 3"
    },
    "language_info": {
      "name": "python"
    }
  },
  "cells": [
    {
      "cell_type": "markdown",
      "metadata": {
        "id": "view-in-github",
        "colab_type": "text"
      },
      "source": [
        "<a href=\"https://colab.research.google.com/github/ArefehK78/PycoinGecko/blob/main/PycoinGecko.ipynb\" target=\"_parent\"><img src=\"https://colab.research.google.com/assets/colab-badge.svg\" alt=\"Open In Colab\"/></a>"
      ]
    },
    {
      "cell_type": "code",
      "execution_count": 1,
      "metadata": {
        "colab": {
          "base_uri": "https://localhost:8080/"
        },
        "id": "rqBVNRLPqM-i",
        "outputId": "1d21ab4b-0737-43d5-e10f-fda288df886e"
      },
      "outputs": [
        {
          "output_type": "stream",
          "name": "stdout",
          "text": [
            "Looking in indexes: https://pypi.org/simple, https://us-python.pkg.dev/colab-wheels/public/simple/\n",
            "Collecting pycoingecko\n",
            "  Downloading pycoingecko-3.1.0-py3-none-any.whl (8.8 kB)\n",
            "Requirement already satisfied: requests in /usr/local/lib/python3.9/dist-packages (from pycoingecko) (2.25.1)\n",
            "Requirement already satisfied: urllib3<1.27,>=1.21.1 in /usr/local/lib/python3.9/dist-packages (from requests->pycoingecko) (1.26.14)\n",
            "Requirement already satisfied: chardet<5,>=3.0.2 in /usr/local/lib/python3.9/dist-packages (from requests->pycoingecko) (4.0.0)\n",
            "Requirement already satisfied: certifi>=2017.4.17 in /usr/local/lib/python3.9/dist-packages (from requests->pycoingecko) (2022.12.7)\n",
            "Requirement already satisfied: idna<3,>=2.5 in /usr/local/lib/python3.9/dist-packages (from requests->pycoingecko) (2.10)\n",
            "Installing collected packages: pycoingecko\n",
            "Successfully installed pycoingecko-3.1.0\n"
          ]
        }
      ],
      "source": [
        "!pip install pycoingecko"
      ]
    },
    {
      "cell_type": "code",
      "source": [
        "from pycoingecko import CoinGeckoAPI"
      ],
      "metadata": {
        "id": "veUWMK5Cqh9Z"
      },
      "execution_count": 2,
      "outputs": []
    },
    {
      "cell_type": "markdown",
      "source": [
        "![pycoingecko.jpg](data:image/jpeg;base64,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)"
      ],
      "metadata": {
        "id": "-VzGrKBVHtIE"
      }
    },
    {
      "cell_type": "code",
      "source": [],
      "metadata": {
        "id": "w947dajGHs-a"
      },
      "execution_count": null,
      "outputs": []
    },
    {
      "cell_type": "code",
      "source": [
        "#create cliebt object\n",
        "cg = CoinGeckoAPI()"
      ],
      "metadata": {
        "id": "cqDP96dYq1yG"
      },
      "execution_count": 3,
      "outputs": []
    },
    {
      "cell_type": "code",
      "source": [
        "bitcoin_data = cg.get_coin_market_chart_by_id(id='bitcoin' , vs_currency= 'usd' , days= 30 )\n",
        "#the answer is a JSON file expressed as a python dictionary of nested List\n",
        "print(bitcoin_data.keys())"
      ],
      "metadata": {
        "colab": {
          "base_uri": "https://localhost:8080/"
        },
        "id": "4wzYie1DrAzd",
        "outputId": "a53569b3-35b2-4258-d5f9-0a0329e08806"
      },
      "execution_count": 6,
      "outputs": [
        {
          "output_type": "stream",
          "name": "stdout",
          "text": [
            "dict_keys(['prices', 'market_caps', 'total_volumes'])\n"
          ]
        }
      ]
    },
    {
      "cell_type": "code",
      "source": [
        "bitcoin_data['prices']"
      ],
      "metadata": {
        "id": "QIjfBAMmrdrU"
      },
      "execution_count": null,
      "outputs": []
    },
    {
      "cell_type": "code",
      "source": [
        "import pandas as pd"
      ],
      "metadata": {
        "id": "7BY17lUFsE3n"
      },
      "execution_count": 8,
      "outputs": []
    },
    {
      "cell_type": "code",
      "source": [
        "data = pd.DataFrame(bitcoin_data['prices'], columns= ['TimeStamps', 'Price'])"
      ],
      "metadata": {
        "id": "3NHfemBdsPp8"
      },
      "execution_count": 12,
      "outputs": []
    },
    {
      "cell_type": "code",
      "source": [
        "data.head()"
      ],
      "metadata": {
        "colab": {
          "base_uri": "https://localhost:8080/",
          "height": 206
        },
        "id": "7Q4Nk1-NsiHF",
        "outputId": "f8ed0911-9cf6-4951-d3cc-575b682b3cde"
      },
      "execution_count": 14,
      "outputs": [
        {
          "output_type": "execute_result",
          "data": {
            "text/plain": [
              "      TimeStamps         Price\n",
              "0  1675846857874  23207.522909\n",
              "1  1675850567141  23211.875881\n",
              "2  1675854039035  23167.647299\n",
              "3  1675857723007  23164.578703\n",
              "4  1675861234160  23125.045056"
            ],
            "text/html": [
              "\n",
              "  <div id=\"df-b2913010-c337-4369-aa5d-0f33922b94df\">\n",
              "    <div class=\"colab-df-container\">\n",
              "      <div>\n",
              "<style scoped>\n",
              "    .dataframe tbody tr th:only-of-type {\n",
              "        vertical-align: middle;\n",
              "    }\n",
              "\n",
              "    .dataframe tbody tr th {\n",
              "        vertical-align: top;\n",
              "    }\n",
              "\n",
              "    .dataframe thead th {\n",
              "        text-align: right;\n",
              "    }\n",
              "</style>\n",
              "<table border=\"1\" class=\"dataframe\">\n",
              "  <thead>\n",
              "    <tr style=\"text-align: right;\">\n",
              "      <th></th>\n",
              "      <th>TimeStamps</th>\n",
              "      <th>Price</th>\n",
              "    </tr>\n",
              "  </thead>\n",
              "  <tbody>\n",
              "    <tr>\n",
              "      <th>0</th>\n",
              "      <td>1675846857874</td>\n",
              "      <td>23207.522909</td>\n",
              "    </tr>\n",
              "    <tr>\n",
              "      <th>1</th>\n",
              "      <td>1675850567141</td>\n",
              "      <td>23211.875881</td>\n",
              "    </tr>\n",
              "    <tr>\n",
              "      <th>2</th>\n",
              "      <td>1675854039035</td>\n",
              "      <td>23167.647299</td>\n",
              "    </tr>\n",
              "    <tr>\n",
              "      <th>3</th>\n",
              "      <td>1675857723007</td>\n",
              "      <td>23164.578703</td>\n",
              "    </tr>\n",
              "    <tr>\n",
              "      <th>4</th>\n",
              "      <td>1675861234160</td>\n",
              "      <td>23125.045056</td>\n",
              "    </tr>\n",
              "  </tbody>\n",
              "</table>\n",
              "</div>\n",
              "      <button class=\"colab-df-convert\" onclick=\"convertToInteractive('df-b2913010-c337-4369-aa5d-0f33922b94df')\"\n",
              "              title=\"Convert this dataframe to an interactive table.\"\n",
              "              style=\"display:none;\">\n",
              "        \n",
              "  <svg xmlns=\"http://www.w3.org/2000/svg\" height=\"24px\"viewBox=\"0 0 24 24\"\n",
              "       width=\"24px\">\n",
              "    <path d=\"M0 0h24v24H0V0z\" fill=\"none\"/>\n",
              "    <path d=\"M18.56 5.44l.94 2.06.94-2.06 2.06-.94-2.06-.94-.94-2.06-.94 2.06-2.06.94zm-11 1L8.5 8.5l.94-2.06 2.06-.94-2.06-.94L8.5 2.5l-.94 2.06-2.06.94zm10 10l.94 2.06.94-2.06 2.06-.94-2.06-.94-.94-2.06-.94 2.06-2.06.94z\"/><path d=\"M17.41 7.96l-1.37-1.37c-.4-.4-.92-.59-1.43-.59-.52 0-1.04.2-1.43.59L10.3 9.45l-7.72 7.72c-.78.78-.78 2.05 0 2.83L4 21.41c.39.39.9.59 1.41.59.51 0 1.02-.2 1.41-.59l7.78-7.78 2.81-2.81c.8-.78.8-2.07 0-2.86zM5.41 20L4 18.59l7.72-7.72 1.47 1.35L5.41 20z\"/>\n",
              "  </svg>\n",
              "      </button>\n",
              "      \n",
              "  <style>\n",
              "    .colab-df-container {\n",
              "      display:flex;\n",
              "      flex-wrap:wrap;\n",
              "      gap: 12px;\n",
              "    }\n",
              "\n",
              "    .colab-df-convert {\n",
              "      background-color: #E8F0FE;\n",
              "      border: none;\n",
              "      border-radius: 50%;\n",
              "      cursor: pointer;\n",
              "      display: none;\n",
              "      fill: #1967D2;\n",
              "      height: 32px;\n",
              "      padding: 0 0 0 0;\n",
              "      width: 32px;\n",
              "    }\n",
              "\n",
              "    .colab-df-convert:hover {\n",
              "      background-color: #E2EBFA;\n",
              "      box-shadow: 0px 1px 2px rgba(60, 64, 67, 0.3), 0px 1px 3px 1px rgba(60, 64, 67, 0.15);\n",
              "      fill: #174EA6;\n",
              "    }\n",
              "\n",
              "    [theme=dark] .colab-df-convert {\n",
              "      background-color: #3B4455;\n",
              "      fill: #D2E3FC;\n",
              "    }\n",
              "\n",
              "    [theme=dark] .colab-df-convert:hover {\n",
              "      background-color: #434B5C;\n",
              "      box-shadow: 0px 1px 3px 1px rgba(0, 0, 0, 0.15);\n",
              "      filter: drop-shadow(0px 1px 2px rgba(0, 0, 0, 0.3));\n",
              "      fill: #FFFFFF;\n",
              "    }\n",
              "  </style>\n",
              "\n",
              "      <script>\n",
              "        const buttonEl =\n",
              "          document.querySelector('#df-b2913010-c337-4369-aa5d-0f33922b94df button.colab-df-convert');\n",
              "        buttonEl.style.display =\n",
              "          google.colab.kernel.accessAllowed ? 'block' : 'none';\n",
              "\n",
              "        async function convertToInteractive(key) {\n",
              "          const element = document.querySelector('#df-b2913010-c337-4369-aa5d-0f33922b94df');\n",
              "          const dataTable =\n",
              "            await google.colab.kernel.invokeFunction('convertToInteractive',\n",
              "                                                     [key], {});\n",
              "          if (!dataTable) return;\n",
              "\n",
              "          const docLinkHtml = 'Like what you see? Visit the ' +\n",
              "            '<a target=\"_blank\" href=https://colab.research.google.com/notebooks/data_table.ipynb>data table notebook</a>'\n",
              "            + ' to learn more about interactive tables.';\n",
              "          element.innerHTML = '';\n",
              "          dataTable['output_type'] = 'display_data';\n",
              "          await google.colab.output.renderOutput(dataTable, element);\n",
              "          const docLink = document.createElement('div');\n",
              "          docLink.innerHTML = docLinkHtml;\n",
              "          element.appendChild(docLink);\n",
              "        }\n",
              "      </script>\n",
              "    </div>\n",
              "  </div>\n",
              "  "
            ]
          },
          "metadata": {},
          "execution_count": 14
        }
      ]
    },
    {
      "cell_type": "code",
      "source": [
        "#hard to understand time format so convert it to more readable format using Pandas function to_datatime\n",
        "data['Date'] = pd.to_datetime(data['TimeStamps'],unit = 'ms' )\n",
        "data.head()"
      ],
      "metadata": {
        "colab": {
          "base_uri": "https://localhost:8080/",
          "height": 206
        },
        "id": "LJ-b26meuNuN",
        "outputId": "bebd598c-d27f-4579-89d0-292aa1f25d51"
      },
      "execution_count": 22,
      "outputs": [
        {
          "output_type": "execute_result",
          "data": {
            "text/plain": [
              "      TimeStamps         Price                    Date\n",
              "0  1675846857874  23207.522909 2023-02-08 09:00:57.874\n",
              "1  1675850567141  23211.875881 2023-02-08 10:02:47.141\n",
              "2  1675854039035  23167.647299 2023-02-08 11:00:39.035\n",
              "3  1675857723007  23164.578703 2023-02-08 12:02:03.007\n",
              "4  1675861234160  23125.045056 2023-02-08 13:00:34.160"
            ],
            "text/html": [
              "\n",
              "  <div id=\"df-477f90a4-1806-4aa6-9448-b62d6bd92251\">\n",
              "    <div class=\"colab-df-container\">\n",
              "      <div>\n",
              "<style scoped>\n",
              "    .dataframe tbody tr th:only-of-type {\n",
              "        vertical-align: middle;\n",
              "    }\n",
              "\n",
              "    .dataframe tbody tr th {\n",
              "        vertical-align: top;\n",
              "    }\n",
              "\n",
              "    .dataframe thead th {\n",
              "        text-align: right;\n",
              "    }\n",
              "</style>\n",
              "<table border=\"1\" class=\"dataframe\">\n",
              "  <thead>\n",
              "    <tr style=\"text-align: right;\">\n",
              "      <th></th>\n",
              "      <th>TimeStamps</th>\n",
              "      <th>Price</th>\n",
              "      <th>Date</th>\n",
              "    </tr>\n",
              "  </thead>\n",
              "  <tbody>\n",
              "    <tr>\n",
              "      <th>0</th>\n",
              "      <td>1675846857874</td>\n",
              "      <td>23207.522909</td>\n",
              "      <td>2023-02-08 09:00:57.874</td>\n",
              "    </tr>\n",
              "    <tr>\n",
              "      <th>1</th>\n",
              "      <td>1675850567141</td>\n",
              "      <td>23211.875881</td>\n",
              "      <td>2023-02-08 10:02:47.141</td>\n",
              "    </tr>\n",
              "    <tr>\n",
              "      <th>2</th>\n",
              "      <td>1675854039035</td>\n",
              "      <td>23167.647299</td>\n",
              "      <td>2023-02-08 11:00:39.035</td>\n",
              "    </tr>\n",
              "    <tr>\n",
              "      <th>3</th>\n",
              "      <td>1675857723007</td>\n",
              "      <td>23164.578703</td>\n",
              "      <td>2023-02-08 12:02:03.007</td>\n",
              "    </tr>\n",
              "    <tr>\n",
              "      <th>4</th>\n",
              "      <td>1675861234160</td>\n",
              "      <td>23125.045056</td>\n",
              "      <td>2023-02-08 13:00:34.160</td>\n",
              "    </tr>\n",
              "  </tbody>\n",
              "</table>\n",
              "</div>\n",
              "      <button class=\"colab-df-convert\" onclick=\"convertToInteractive('df-477f90a4-1806-4aa6-9448-b62d6bd92251')\"\n",
              "              title=\"Convert this dataframe to an interactive table.\"\n",
              "              style=\"display:none;\">\n",
              "        \n",
              "  <svg xmlns=\"http://www.w3.org/2000/svg\" height=\"24px\"viewBox=\"0 0 24 24\"\n",
              "       width=\"24px\">\n",
              "    <path d=\"M0 0h24v24H0V0z\" fill=\"none\"/>\n",
              "    <path d=\"M18.56 5.44l.94 2.06.94-2.06 2.06-.94-2.06-.94-.94-2.06-.94 2.06-2.06.94zm-11 1L8.5 8.5l.94-2.06 2.06-.94-2.06-.94L8.5 2.5l-.94 2.06-2.06.94zm10 10l.94 2.06.94-2.06 2.06-.94-2.06-.94-.94-2.06-.94 2.06-2.06.94z\"/><path d=\"M17.41 7.96l-1.37-1.37c-.4-.4-.92-.59-1.43-.59-.52 0-1.04.2-1.43.59L10.3 9.45l-7.72 7.72c-.78.78-.78 2.05 0 2.83L4 21.41c.39.39.9.59 1.41.59.51 0 1.02-.2 1.41-.59l7.78-7.78 2.81-2.81c.8-.78.8-2.07 0-2.86zM5.41 20L4 18.59l7.72-7.72 1.47 1.35L5.41 20z\"/>\n",
              "  </svg>\n",
              "      </button>\n",
              "      \n",
              "  <style>\n",
              "    .colab-df-container {\n",
              "      display:flex;\n",
              "      flex-wrap:wrap;\n",
              "      gap: 12px;\n",
              "    }\n",
              "\n",
              "    .colab-df-convert {\n",
              "      background-color: #E8F0FE;\n",
              "      border: none;\n",
              "      border-radius: 50%;\n",
              "      cursor: pointer;\n",
              "      display: none;\n",
              "      fill: #1967D2;\n",
              "      height: 32px;\n",
              "      padding: 0 0 0 0;\n",
              "      width: 32px;\n",
              "    }\n",
              "\n",
              "    .colab-df-convert:hover {\n",
              "      background-color: #E2EBFA;\n",
              "      box-shadow: 0px 1px 2px rgba(60, 64, 67, 0.3), 0px 1px 3px 1px rgba(60, 64, 67, 0.15);\n",
              "      fill: #174EA6;\n",
              "    }\n",
              "\n",
              "    [theme=dark] .colab-df-convert {\n",
              "      background-color: #3B4455;\n",
              "      fill: #D2E3FC;\n",
              "    }\n",
              "\n",
              "    [theme=dark] .colab-df-convert:hover {\n",
              "      background-color: #434B5C;\n",
              "      box-shadow: 0px 1px 3px 1px rgba(0, 0, 0, 0.15);\n",
              "      filter: drop-shadow(0px 1px 2px rgba(0, 0, 0, 0.3));\n",
              "      fill: #FFFFFF;\n",
              "    }\n",
              "  </style>\n",
              "\n",
              "      <script>\n",
              "        const buttonEl =\n",
              "          document.querySelector('#df-477f90a4-1806-4aa6-9448-b62d6bd92251 button.colab-df-convert');\n",
              "        buttonEl.style.display =\n",
              "          google.colab.kernel.accessAllowed ? 'block' : 'none';\n",
              "\n",
              "        async function convertToInteractive(key) {\n",
              "          const element = document.querySelector('#df-477f90a4-1806-4aa6-9448-b62d6bd92251');\n",
              "          const dataTable =\n",
              "            await google.colab.kernel.invokeFunction('convertToInteractive',\n",
              "                                                     [key], {});\n",
              "          if (!dataTable) return;\n",
              "\n",
              "          const docLinkHtml = 'Like what you see? Visit the ' +\n",
              "            '<a target=\"_blank\" href=https://colab.research.google.com/notebooks/data_table.ipynb>data table notebook</a>'\n",
              "            + ' to learn more about interactive tables.';\n",
              "          element.innerHTML = '';\n",
              "          dataTable['output_type'] = 'display_data';\n",
              "          await google.colab.output.renderOutput(dataTable, element);\n",
              "          const docLink = document.createElement('div');\n",
              "          docLink.innerHTML = docLinkHtml;\n",
              "          element.appendChild(docLink);\n",
              "        }\n",
              "      </script>\n",
              "    </div>\n",
              "  </div>\n",
              "  "
            ]
          },
          "metadata": {},
          "execution_count": 22
        }
      ]
    },
    {
      "cell_type": "code",
      "source": [
        "#create csndle sticj plot\n",
        "candlestick_data = data.groupby(data.Date.dt.date).agg({'Price': ['min', 'max', 'first', 'last']})\n",
        "candlestick_data.head()"
      ],
      "metadata": {
        "colab": {
          "base_uri": "https://localhost:8080/",
          "height": 269
        },
        "id": "I7mv4Nq0uvgl",
        "outputId": "383e8d9a-506a-4865-a9ea-b3d8ec407cba"
      },
      "execution_count": 28,
      "outputs": [
        {
          "output_type": "execute_result",
          "data": {
            "text/plain": [
              "                   Price                                          \n",
              "                     min           max         first          last\n",
              "Date                                                              \n",
              "2023-02-08  22871.103325  23211.875881  23207.522909  22957.553733\n",
              "2023-02-09  21844.198228  23009.061325  22947.507829  21844.198228\n",
              "2023-02-10  21499.661732  21958.603366  21809.953941  21518.879041\n",
              "2023-02-11  21643.699159  21851.016108  21643.699159  21851.016108\n",
              "2023-02-12  21792.247987  22077.091347  21889.579131  21829.311446"
            ],
            "text/html": [
              "\n",
              "  <div id=\"df-7f606e35-fab1-48ee-b46a-d0cf5777ca4d\">\n",
              "    <div class=\"colab-df-container\">\n",
              "      <div>\n",
              "<style scoped>\n",
              "    .dataframe tbody tr th:only-of-type {\n",
              "        vertical-align: middle;\n",
              "    }\n",
              "\n",
              "    .dataframe tbody tr th {\n",
              "        vertical-align: top;\n",
              "    }\n",
              "\n",
              "    .dataframe thead tr th {\n",
              "        text-align: left;\n",
              "    }\n",
              "\n",
              "    .dataframe thead tr:last-of-type th {\n",
              "        text-align: right;\n",
              "    }\n",
              "</style>\n",
              "<table border=\"1\" class=\"dataframe\">\n",
              "  <thead>\n",
              "    <tr>\n",
              "      <th></th>\n",
              "      <th colspan=\"4\" halign=\"left\">Price</th>\n",
              "    </tr>\n",
              "    <tr>\n",
              "      <th></th>\n",
              "      <th>min</th>\n",
              "      <th>max</th>\n",
              "      <th>first</th>\n",
              "      <th>last</th>\n",
              "    </tr>\n",
              "    <tr>\n",
              "      <th>Date</th>\n",
              "      <th></th>\n",
              "      <th></th>\n",
              "      <th></th>\n",
              "      <th></th>\n",
              "    </tr>\n",
              "  </thead>\n",
              "  <tbody>\n",
              "    <tr>\n",
              "      <th>2023-02-08</th>\n",
              "      <td>22871.103325</td>\n",
              "      <td>23211.875881</td>\n",
              "      <td>23207.522909</td>\n",
              "      <td>22957.553733</td>\n",
              "    </tr>\n",
              "    <tr>\n",
              "      <th>2023-02-09</th>\n",
              "      <td>21844.198228</td>\n",
              "      <td>23009.061325</td>\n",
              "      <td>22947.507829</td>\n",
              "      <td>21844.198228</td>\n",
              "    </tr>\n",
              "    <tr>\n",
              "      <th>2023-02-10</th>\n",
              "      <td>21499.661732</td>\n",
              "      <td>21958.603366</td>\n",
              "      <td>21809.953941</td>\n",
              "      <td>21518.879041</td>\n",
              "    </tr>\n",
              "    <tr>\n",
              "      <th>2023-02-11</th>\n",
              "      <td>21643.699159</td>\n",
              "      <td>21851.016108</td>\n",
              "      <td>21643.699159</td>\n",
              "      <td>21851.016108</td>\n",
              "    </tr>\n",
              "    <tr>\n",
              "      <th>2023-02-12</th>\n",
              "      <td>21792.247987</td>\n",
              "      <td>22077.091347</td>\n",
              "      <td>21889.579131</td>\n",
              "      <td>21829.311446</td>\n",
              "    </tr>\n",
              "  </tbody>\n",
              "</table>\n",
              "</div>\n",
              "      <button class=\"colab-df-convert\" onclick=\"convertToInteractive('df-7f606e35-fab1-48ee-b46a-d0cf5777ca4d')\"\n",
              "              title=\"Convert this dataframe to an interactive table.\"\n",
              "              style=\"display:none;\">\n",
              "        \n",
              "  <svg xmlns=\"http://www.w3.org/2000/svg\" height=\"24px\"viewBox=\"0 0 24 24\"\n",
              "       width=\"24px\">\n",
              "    <path d=\"M0 0h24v24H0V0z\" fill=\"none\"/>\n",
              "    <path d=\"M18.56 5.44l.94 2.06.94-2.06 2.06-.94-2.06-.94-.94-2.06-.94 2.06-2.06.94zm-11 1L8.5 8.5l.94-2.06 2.06-.94-2.06-.94L8.5 2.5l-.94 2.06-2.06.94zm10 10l.94 2.06.94-2.06 2.06-.94-2.06-.94-.94-2.06-.94 2.06-2.06.94z\"/><path d=\"M17.41 7.96l-1.37-1.37c-.4-.4-.92-.59-1.43-.59-.52 0-1.04.2-1.43.59L10.3 9.45l-7.72 7.72c-.78.78-.78 2.05 0 2.83L4 21.41c.39.39.9.59 1.41.59.51 0 1.02-.2 1.41-.59l7.78-7.78 2.81-2.81c.8-.78.8-2.07 0-2.86zM5.41 20L4 18.59l7.72-7.72 1.47 1.35L5.41 20z\"/>\n",
              "  </svg>\n",
              "      </button>\n",
              "      \n",
              "  <style>\n",
              "    .colab-df-container {\n",
              "      display:flex;\n",
              "      flex-wrap:wrap;\n",
              "      gap: 12px;\n",
              "    }\n",
              "\n",
              "    .colab-df-convert {\n",
              "      background-color: #E8F0FE;\n",
              "      border: none;\n",
              "      border-radius: 50%;\n",
              "      cursor: pointer;\n",
              "      display: none;\n",
              "      fill: #1967D2;\n",
              "      height: 32px;\n",
              "      padding: 0 0 0 0;\n",
              "      width: 32px;\n",
              "    }\n",
              "\n",
              "    .colab-df-convert:hover {\n",
              "      background-color: #E2EBFA;\n",
              "      box-shadow: 0px 1px 2px rgba(60, 64, 67, 0.3), 0px 1px 3px 1px rgba(60, 64, 67, 0.15);\n",
              "      fill: #174EA6;\n",
              "    }\n",
              "\n",
              "    [theme=dark] .colab-df-convert {\n",
              "      background-color: #3B4455;\n",
              "      fill: #D2E3FC;\n",
              "    }\n",
              "\n",
              "    [theme=dark] .colab-df-convert:hover {\n",
              "      background-color: #434B5C;\n",
              "      box-shadow: 0px 1px 3px 1px rgba(0, 0, 0, 0.15);\n",
              "      filter: drop-shadow(0px 1px 2px rgba(0, 0, 0, 0.3));\n",
              "      fill: #FFFFFF;\n",
              "    }\n",
              "  </style>\n",
              "\n",
              "      <script>\n",
              "        const buttonEl =\n",
              "          document.querySelector('#df-7f606e35-fab1-48ee-b46a-d0cf5777ca4d button.colab-df-convert');\n",
              "        buttonEl.style.display =\n",
              "          google.colab.kernel.accessAllowed ? 'block' : 'none';\n",
              "\n",
              "        async function convertToInteractive(key) {\n",
              "          const element = document.querySelector('#df-7f606e35-fab1-48ee-b46a-d0cf5777ca4d');\n",
              "          const dataTable =\n",
              "            await google.colab.kernel.invokeFunction('convertToInteractive',\n",
              "                                                     [key], {});\n",
              "          if (!dataTable) return;\n",
              "\n",
              "          const docLinkHtml = 'Like what you see? Visit the ' +\n",
              "            '<a target=\"_blank\" href=https://colab.research.google.com/notebooks/data_table.ipynb>data table notebook</a>'\n",
              "            + ' to learn more about interactive tables.';\n",
              "          element.innerHTML = '';\n",
              "          dataTable['output_type'] = 'display_data';\n",
              "          await google.colab.output.renderOutput(dataTable, element);\n",
              "          const docLink = document.createElement('div');\n",
              "          docLink.innerHTML = docLinkHtml;\n",
              "          element.appendChild(docLink);\n",
              "        }\n",
              "      </script>\n",
              "    </div>\n",
              "  </div>\n",
              "  "
            ]
          },
          "metadata": {},
          "execution_count": 28
        }
      ]
    },
    {
      "cell_type": "code",
      "source": [
        "from matplotlib import pyplot\n",
        "!pip install plotly\n"
      ],
      "metadata": {
        "colab": {
          "base_uri": "https://localhost:8080/"
        },
        "id": "F_9sOkNhwyNU",
        "outputId": "bcd254ac-0d7c-4c95-a629-fe190328eab2"
      },
      "execution_count": 30,
      "outputs": [
        {
          "output_type": "stream",
          "name": "stdout",
          "text": [
            "Looking in indexes: https://pypi.org/simple, https://us-python.pkg.dev/colab-wheels/public/simple/\n",
            "Requirement already satisfied: plotly in /usr/local/lib/python3.9/dist-packages (5.5.0)\n",
            "Requirement already satisfied: tenacity>=6.2.0 in /usr/local/lib/python3.9/dist-packages (from plotly) (8.2.2)\n",
            "Requirement already satisfied: six in /usr/local/lib/python3.9/dist-packages (from plotly) (1.15.0)\n"
          ]
        }
      ]
    },
    {
      "cell_type": "code",
      "source": [
        "import plotly\n",
        "import plotly.graph_objs as go"
      ],
      "metadata": {
        "id": "7omjjkO32WTz"
      },
      "execution_count": 50,
      "outputs": []
    },
    {
      "cell_type": "code",
      "source": [
        "import plotly.graph_objects as go # or plotly.express as px\n",
        " # or any Plotly Express function e.g. px.bar(...)\n",
        "# fig.add_trace( ... )\n",
        "# fig.update_layout( ... )\n",
        "\n"
      ],
      "metadata": {
        "id": "3xYfV-fIzbMU"
      },
      "execution_count": 36,
      "outputs": []
    },
    {
      "cell_type": "code",
      "source": [
        "fig = go.Figure(data=[go.Candlestick(x = candlestick_data.index,\n",
        "                                     open = candlestick_data['Price']['first'],\n",
        "                                     high = candlestick_data['Price']['max'],\n",
        "                                     low = candlestick_data['Price']['min'],\n",
        "                                     close = candlestick_data['Price']['last'])\n",
        "                                      ])"
      ],
      "metadata": {
        "id": "AJawJH2wxfe9"
      },
      "execution_count": 38,
      "outputs": []
    },
    {
      "cell_type": "code",
      "source": [
        "fig.update_layout(xaxis_rangeslider_visible = False, xaxis_title = 'Date', \n",
        "                  yaxis_title='Price (USD $)' , title = 'Bitcoin Candlestick Chart Over Past 30 Days')"
      ],
      "metadata": {
        "colab": {
          "base_uri": "https://localhost:8080/",
          "height": 542
        },
        "id": "EBDqcedEzn6l",
        "outputId": "e94f61ec-4ab4-4c97-e8b3-f4d45c6badb2"
      },
      "execution_count": 60,
      "outputs": [
        {
          "output_type": "display_data",
          "data": {
            "text/html": [
              "<html>\n",
              "<head><meta charset=\"utf-8\" /></head>\n",
              "<body>\n",
              "    <div>            <script src=\"https://cdnjs.cloudflare.com/ajax/libs/mathjax/2.7.5/MathJax.js?config=TeX-AMS-MML_SVG\"></script><script type=\"text/javascript\">if (window.MathJax) {MathJax.Hub.Config({SVG: {font: \"STIX-Web\"}});}</script>                <script type=\"text/javascript\">window.PlotlyConfig = {MathJaxConfig: 'local'};</script>\n",
              "        <script src=\"https://cdn.plot.ly/plotly-2.8.3.min.js\"></script>                <div id=\"d977e195-c869-418c-a0b3-1323140f721f\" class=\"plotly-graph-div\" style=\"height:525px; width:100%;\"></div>            <script type=\"text/javascript\">                                    window.PLOTLYENV=window.PLOTLYENV || {};                                    if (document.getElementById(\"d977e195-c869-418c-a0b3-1323140f721f\")) {                    Plotly.newPlot(                        \"d977e195-c869-418c-a0b3-1323140f721f\",                        [{\"close\":[22957.553732646666,21844.198227891193,21518.879040935193,21851.016108172767,21829.311445993622,21654.22168207061,22201.004921354484,24104.32860023135,23949.132668696413,24597.1017002252,24614.831209774173,24480.53343383269,24694.998348364225,24370.932550612804,24090.251960652262,23807.757150774065,23095.189800534477,23140.35565346518,23443.161512694092,23498.790807539142,23159.646636797075,23504.747683174395,23515.128732237215,22314.52765702006,22346.33233920694,22455.521105156393,22430.81746309442,22099.854839403637,21964.16070779069,20381.708088738338,19932.36100027411],\"high\":[23211.875881106138,23009.06132473836,21958.603365979103,21851.016108172767,22077.091346794103,21899.57090660795,22275.827533061172,24122.186289762478,24960.697615793375,24783.677812278624,24695.038684187966,24941.421348504064,24972.047000210994,24982.455934648817,24417.38703630947,24631.74748429756,24021.954249024628,23202.43048737314,23669.06354041027,23757.151327369662,23525.715578857256,23829.946743900706,23663.12537721522,23469.231618829668,22395.932301491983,22609.50968265507,22548.56002224413,22515.21563268249,22292.230162666576,21780.264719268274,20368.318163263935],\"low\":[22871.10332505254,21844.198227891193,21499.66173221349,21643.699159129977,21792.24798693111,21470.742475476778,21687.02968757751,22096.14473383533,23949.132668696413,23666.448646465495,24485.68669967891,24447.433277864973,24228.784427258368,24216.199314938425,23688.237675512464,23807.757150774065,23095.189800534477,22932.89635749938,23109.274124527044,23225.092570474746,23063.29381745662,23079.25455948012,23279.37122891428,22259.675591254836,22203.57313487645,22271.621307056605,22362.00823955405,22051.451967084125,21953.980294081073,20207.416674217828,19923.68807279441],\"open\":[23207.52290863466,22947.50782856846,21809.95394073028,21643.699159129977,21889.579130643924,21779.87440384417,21807.834274723064,22220.070997481067,24307.875101631602,23756.907281577434,24628.82455217312,24635.850030004312,24322.563258356695,24791.174738128513,24417.38703630947,24146.101364545222,23951.11098423326,23172.286538018925,23167.204864292522,23541.115854493557,23518.12390627588,23155.543746825795,23634.333489123786,23469.231618829668,22362.45766625331,22348.32991538815,22432.85634630719,22414.06021826144,22217.209884905325,21716.15632278766,20368.318163263935],\"x\":[\"2023-02-08\",\"2023-02-09\",\"2023-02-10\",\"2023-02-11\",\"2023-02-12\",\"2023-02-13\",\"2023-02-14\",\"2023-02-15\",\"2023-02-16\",\"2023-02-17\",\"2023-02-18\",\"2023-02-19\",\"2023-02-20\",\"2023-02-21\",\"2023-02-22\",\"2023-02-23\",\"2023-02-24\",\"2023-02-25\",\"2023-02-26\",\"2023-02-27\",\"2023-02-28\",\"2023-03-01\",\"2023-03-02\",\"2023-03-03\",\"2023-03-04\",\"2023-03-05\",\"2023-03-06\",\"2023-03-07\",\"2023-03-08\",\"2023-03-09\",\"2023-03-10\"],\"type\":\"candlestick\"}],                        {\"template\":{\"data\":{\"bar\":[{\"error_x\":{\"color\":\"#2a3f5f\"},\"error_y\":{\"color\":\"#2a3f5f\"},\"marker\":{\"line\":{\"color\":\"#E5ECF6\",\"width\":0.5},\"pattern\":{\"fillmode\":\"overlay\",\"size\":10,\"solidity\":0.2}},\"type\":\"bar\"}],\"barpolar\":[{\"marker\":{\"line\":{\"color\":\"#E5ECF6\",\"width\":0.5},\"pattern\":{\"fillmode\":\"overlay\",\"size\":10,\"solidity\":0.2}},\"type\":\"barpolar\"}],\"carpet\":[{\"aaxis\":{\"endlinecolor\":\"#2a3f5f\",\"gridcolor\":\"white\",\"linecolor\":\"white\",\"minorgridcolor\":\"white\",\"startlinecolor\":\"#2a3f5f\"},\"baxis\":{\"endlinecolor\":\"#2a3f5f\",\"gridcolor\":\"white\",\"linecolor\":\"white\",\"minorgridcolor\":\"white\",\"startlinecolor\":\"#2a3f5f\"},\"type\":\"carpet\"}],\"choropleth\":[{\"colorbar\":{\"outlinewidth\":0,\"ticks\":\"\"},\"type\":\"choropleth\"}],\"contour\":[{\"colorbar\":{\"outlinewidth\":0,\"ticks\":\"\"},\"colorscale\":[[0.0,\"#0d0887\"],[0.1111111111111111,\"#46039f\"],[0.2222222222222222,\"#7201a8\"],[0.3333333333333333,\"#9c179e\"],[0.4444444444444444,\"#bd3786\"],[0.5555555555555556,\"#d8576b\"],[0.6666666666666666,\"#ed7953\"],[0.7777777777777778,\"#fb9f3a\"],[0.8888888888888888,\"#fdca26\"],[1.0,\"#f0f921\"]],\"type\":\"contour\"}],\"contourcarpet\":[{\"colorbar\":{\"outlinewidth\":0,\"ticks\":\"\"},\"type\":\"contourcarpet\"}],\"heatmap\":[{\"colorbar\":{\"outlinewidth\":0,\"ticks\":\"\"},\"colorscale\":[[0.0,\"#0d0887\"],[0.1111111111111111,\"#46039f\"],[0.2222222222222222,\"#7201a8\"],[0.3333333333333333,\"#9c179e\"],[0.4444444444444444,\"#bd3786\"],[0.5555555555555556,\"#d8576b\"],[0.6666666666666666,\"#ed7953\"],[0.7777777777777778,\"#fb9f3a\"],[0.8888888888888888,\"#fdca26\"],[1.0,\"#f0f921\"]],\"type\":\"heatmap\"}],\"heatmapgl\":[{\"colorbar\":{\"outlinewidth\":0,\"ticks\":\"\"},\"colorscale\":[[0.0,\"#0d0887\"],[0.1111111111111111,\"#46039f\"],[0.2222222222222222,\"#7201a8\"],[0.3333333333333333,\"#9c179e\"],[0.4444444444444444,\"#bd3786\"],[0.5555555555555556,\"#d8576b\"],[0.6666666666666666,\"#ed7953\"],[0.7777777777777778,\"#fb9f3a\"],[0.8888888888888888,\"#fdca26\"],[1.0,\"#f0f921\"]],\"type\":\"heatmapgl\"}],\"histogram\":[{\"marker\":{\"pattern\":{\"fillmode\":\"overlay\",\"size\":10,\"solidity\":0.2}},\"type\":\"histogram\"}],\"histogram2d\":[{\"colorbar\":{\"outlinewidth\":0,\"ticks\":\"\"},\"colorscale\":[[0.0,\"#0d0887\"],[0.1111111111111111,\"#46039f\"],[0.2222222222222222,\"#7201a8\"],[0.3333333333333333,\"#9c179e\"],[0.4444444444444444,\"#bd3786\"],[0.5555555555555556,\"#d8576b\"],[0.6666666666666666,\"#ed7953\"],[0.7777777777777778,\"#fb9f3a\"],[0.8888888888888888,\"#fdca26\"],[1.0,\"#f0f921\"]],\"type\":\"histogram2d\"}],\"histogram2dcontour\":[{\"colorbar\":{\"outlinewidth\":0,\"ticks\":\"\"},\"colorscale\":[[0.0,\"#0d0887\"],[0.1111111111111111,\"#46039f\"],[0.2222222222222222,\"#7201a8\"],[0.3333333333333333,\"#9c179e\"],[0.4444444444444444,\"#bd3786\"],[0.5555555555555556,\"#d8576b\"],[0.6666666666666666,\"#ed7953\"],[0.7777777777777778,\"#fb9f3a\"],[0.8888888888888888,\"#fdca26\"],[1.0,\"#f0f921\"]],\"type\":\"histogram2dcontour\"}],\"mesh3d\":[{\"colorbar\":{\"outlinewidth\":0,\"ticks\":\"\"},\"type\":\"mesh3d\"}],\"parcoords\":[{\"line\":{\"colorbar\":{\"outlinewidth\":0,\"ticks\":\"\"}},\"type\":\"parcoords\"}],\"pie\":[{\"automargin\":true,\"type\":\"pie\"}],\"scatter\":[{\"marker\":{\"colorbar\":{\"outlinewidth\":0,\"ticks\":\"\"}},\"type\":\"scatter\"}],\"scatter3d\":[{\"line\":{\"colorbar\":{\"outlinewidth\":0,\"ticks\":\"\"}},\"marker\":{\"colorbar\":{\"outlinewidth\":0,\"ticks\":\"\"}},\"type\":\"scatter3d\"}],\"scattercarpet\":[{\"marker\":{\"colorbar\":{\"outlinewidth\":0,\"ticks\":\"\"}},\"type\":\"scattercarpet\"}],\"scattergeo\":[{\"marker\":{\"colorbar\":{\"outlinewidth\":0,\"ticks\":\"\"}},\"type\":\"scattergeo\"}],\"scattergl\":[{\"marker\":{\"colorbar\":{\"outlinewidth\":0,\"ticks\":\"\"}},\"type\":\"scattergl\"}],\"scattermapbox\":[{\"marker\":{\"colorbar\":{\"outlinewidth\":0,\"ticks\":\"\"}},\"type\":\"scattermapbox\"}],\"scatterpolar\":[{\"marker\":{\"colorbar\":{\"outlinewidth\":0,\"ticks\":\"\"}},\"type\":\"scatterpolar\"}],\"scatterpolargl\":[{\"marker\":{\"colorbar\":{\"outlinewidth\":0,\"ticks\":\"\"}},\"type\":\"scatterpolargl\"}],\"scatterternary\":[{\"marker\":{\"colorbar\":{\"outlinewidth\":0,\"ticks\":\"\"}},\"type\":\"scatterternary\"}],\"surface\":[{\"colorbar\":{\"outlinewidth\":0,\"ticks\":\"\"},\"colorscale\":[[0.0,\"#0d0887\"],[0.1111111111111111,\"#46039f\"],[0.2222222222222222,\"#7201a8\"],[0.3333333333333333,\"#9c179e\"],[0.4444444444444444,\"#bd3786\"],[0.5555555555555556,\"#d8576b\"],[0.6666666666666666,\"#ed7953\"],[0.7777777777777778,\"#fb9f3a\"],[0.8888888888888888,\"#fdca26\"],[1.0,\"#f0f921\"]],\"type\":\"surface\"}],\"table\":[{\"cells\":{\"fill\":{\"color\":\"#EBF0F8\"},\"line\":{\"color\":\"white\"}},\"header\":{\"fill\":{\"color\":\"#C8D4E3\"},\"line\":{\"color\":\"white\"}},\"type\":\"table\"}]},\"layout\":{\"annotationdefaults\":{\"arrowcolor\":\"#2a3f5f\",\"arrowhead\":0,\"arrowwidth\":1},\"autotypenumbers\":\"strict\",\"coloraxis\":{\"colorbar\":{\"outlinewidth\":0,\"ticks\":\"\"}},\"colorscale\":{\"diverging\":[[0,\"#8e0152\"],[0.1,\"#c51b7d\"],[0.2,\"#de77ae\"],[0.3,\"#f1b6da\"],[0.4,\"#fde0ef\"],[0.5,\"#f7f7f7\"],[0.6,\"#e6f5d0\"],[0.7,\"#b8e186\"],[0.8,\"#7fbc41\"],[0.9,\"#4d9221\"],[1,\"#276419\"]],\"sequential\":[[0.0,\"#0d0887\"],[0.1111111111111111,\"#46039f\"],[0.2222222222222222,\"#7201a8\"],[0.3333333333333333,\"#9c179e\"],[0.4444444444444444,\"#bd3786\"],[0.5555555555555556,\"#d8576b\"],[0.6666666666666666,\"#ed7953\"],[0.7777777777777778,\"#fb9f3a\"],[0.8888888888888888,\"#fdca26\"],[1.0,\"#f0f921\"]],\"sequentialminus\":[[0.0,\"#0d0887\"],[0.1111111111111111,\"#46039f\"],[0.2222222222222222,\"#7201a8\"],[0.3333333333333333,\"#9c179e\"],[0.4444444444444444,\"#bd3786\"],[0.5555555555555556,\"#d8576b\"],[0.6666666666666666,\"#ed7953\"],[0.7777777777777778,\"#fb9f3a\"],[0.8888888888888888,\"#fdca26\"],[1.0,\"#f0f921\"]]},\"colorway\":[\"#636efa\",\"#EF553B\",\"#00cc96\",\"#ab63fa\",\"#FFA15A\",\"#19d3f3\",\"#FF6692\",\"#B6E880\",\"#FF97FF\",\"#FECB52\"],\"font\":{\"color\":\"#2a3f5f\"},\"geo\":{\"bgcolor\":\"white\",\"lakecolor\":\"white\",\"landcolor\":\"#E5ECF6\",\"showlakes\":true,\"showland\":true,\"subunitcolor\":\"white\"},\"hoverlabel\":{\"align\":\"left\"},\"hovermode\":\"closest\",\"mapbox\":{\"style\":\"light\"},\"paper_bgcolor\":\"white\",\"plot_bgcolor\":\"#E5ECF6\",\"polar\":{\"angularaxis\":{\"gridcolor\":\"white\",\"linecolor\":\"white\",\"ticks\":\"\"},\"bgcolor\":\"#E5ECF6\",\"radialaxis\":{\"gridcolor\":\"white\",\"linecolor\":\"white\",\"ticks\":\"\"}},\"scene\":{\"xaxis\":{\"backgroundcolor\":\"#E5ECF6\",\"gridcolor\":\"white\",\"gridwidth\":2,\"linecolor\":\"white\",\"showbackground\":true,\"ticks\":\"\",\"zerolinecolor\":\"white\"},\"yaxis\":{\"backgroundcolor\":\"#E5ECF6\",\"gridcolor\":\"white\",\"gridwidth\":2,\"linecolor\":\"white\",\"showbackground\":true,\"ticks\":\"\",\"zerolinecolor\":\"white\"},\"zaxis\":{\"backgroundcolor\":\"#E5ECF6\",\"gridcolor\":\"white\",\"gridwidth\":2,\"linecolor\":\"white\",\"showbackground\":true,\"ticks\":\"\",\"zerolinecolor\":\"white\"}},\"shapedefaults\":{\"line\":{\"color\":\"#2a3f5f\"}},\"ternary\":{\"aaxis\":{\"gridcolor\":\"white\",\"linecolor\":\"white\",\"ticks\":\"\"},\"baxis\":{\"gridcolor\":\"white\",\"linecolor\":\"white\",\"ticks\":\"\"},\"bgcolor\":\"#E5ECF6\",\"caxis\":{\"gridcolor\":\"white\",\"linecolor\":\"white\",\"ticks\":\"\"}},\"title\":{\"x\":0.05},\"xaxis\":{\"automargin\":true,\"gridcolor\":\"white\",\"linecolor\":\"white\",\"ticks\":\"\",\"title\":{\"standoff\":15},\"zerolinecolor\":\"white\",\"zerolinewidth\":2},\"yaxis\":{\"automargin\":true,\"gridcolor\":\"white\",\"linecolor\":\"white\",\"ticks\":\"\",\"title\":{\"standoff\":15},\"zerolinecolor\":\"white\",\"zerolinewidth\":2}}},\"xaxis\":{\"rangeslider\":{\"visible\":false},\"title\":{\"text\":\"Date\"}},\"yaxis\":{\"title\":{\"text\":\"Price (USD $)\"}},\"title\":{\"text\":\"Bitcoin Candlestick Chart Over Past 30 Days\"}},                        {\"responsive\": true}                    ).then(function(){\n",
              "                            \n",
              "var gd = document.getElementById('d977e195-c869-418c-a0b3-1323140f721f');\n",
              "var x = new MutationObserver(function (mutations, observer) {{\n",
              "        var display = window.getComputedStyle(gd).display;\n",
              "        if (!display || display === 'none') {{\n",
              "            console.log([gd, 'removed!']);\n",
              "            Plotly.purge(gd);\n",
              "            observer.disconnect();\n",
              "        }}\n",
              "}});\n",
              "\n",
              "// Listen for the removal of the full notebook cells\n",
              "var notebookContainer = gd.closest('#notebook-container');\n",
              "if (notebookContainer) {{\n",
              "    x.observe(notebookContainer, {childList: true});\n",
              "}}\n",
              "\n",
              "// Listen for the clearing of the current output cell\n",
              "var outputEl = gd.closest('.output');\n",
              "if (outputEl) {{\n",
              "    x.observe(outputEl, {childList: true});\n",
              "}}\n",
              "\n",
              "                        })                };                            </script>        </div>\n",
              "</body>\n",
              "</html>"
            ]
          },
          "metadata": {}
        }
      ]
    },
    {
      "cell_type": "code",
      "source": [
        "plotly.offline.plot(fig, filename ='bitcoin_candlestick_graph.html')"
      ],
      "metadata": {
        "colab": {
          "base_uri": "https://localhost:8080/",
          "height": 35
        },
        "id": "o6rskR-U3o5T",
        "outputId": "43bd33b1-2270-4e6c-ab1c-7d16d787c798"
      },
      "execution_count": 58,
      "outputs": [
        {
          "output_type": "execute_result",
          "data": {
            "text/plain": [
              "'bitcoin_candlestick_graph.html'"
            ],
            "application/vnd.google.colaboratory.intrinsic+json": {
              "type": "string"
            }
          },
          "metadata": {},
          "execution_count": 58
        }
      ]
    }
  ]
}